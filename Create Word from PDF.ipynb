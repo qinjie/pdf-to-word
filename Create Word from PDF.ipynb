{
 "cells": [
  {
   "cell_type": "markdown",
   "metadata": {},
   "source": [
    "# Create Word from PDF"
   ]
  },
  {
   "cell_type": "markdown",
   "metadata": {},
   "source": [
    "### Install Libraries"
   ]
  },
  {
   "cell_type": "code",
   "execution_count": 1,
   "metadata": {},
   "outputs": [
    {
     "name": "stdout",
     "output_type": "stream",
     "text": [
      "Requirement already satisfied: pdf2image in c:\\users\\zqi2\\appdata\\local\\continuum\\anaconda3\\lib\\site-packages (1.12.1)\n",
      "Requirement already satisfied: pillow in c:\\users\\zqi2\\appdata\\local\\continuum\\anaconda3\\lib\\site-packages (from pdf2image) (6.2.1)\n",
      "Requirement already satisfied: python-docx in c:\\users\\zqi2\\appdata\\local\\continuum\\anaconda3\\lib\\site-packages (0.8.10)\n",
      "Requirement already satisfied: lxml>=2.3.2 in c:\\users\\zqi2\\appdata\\local\\continuum\\anaconda3\\lib\\site-packages (from python-docx) (4.4.1)\n"
     ]
    }
   ],
   "source": [
    "!pip install pdf2image\n",
    "!pip install python-docx\n",
    "!pip install poppler"
   ]
  },
  {
   "cell_type": "markdown",
   "metadata": {},
   "source": [
    "### Utility Functions"
   ]
  },
  {
   "cell_type": "code",
   "execution_count": 20,
   "metadata": {},
   "outputs": [],
   "source": [
    "from PIL import Image\n",
    "from pdf2image import convert_from_path\n",
    "import glob \n",
    "from pathlib import Path\n",
    "import shutil, os\n",
    "from docx import Document\n",
    "import fnmatch\n",
    "import re\n",
    "\n",
    "\n",
    "def find_files_ignore_case(which, where='.'):\n",
    "    '''Returns list of filenames from `where` path matched by 'which'\n",
    "       shell pattern. Matching is case-insensitive.'''\n",
    "    \n",
    "    # TODO: recursive param with walk() filtering\n",
    "    rule = re.compile(fnmatch.translate(which), re.IGNORECASE)\n",
    "    return [name for name in os.listdir(where) if rule.match(name)]\n",
    "\n",
    "\n",
    "def crop_image_center(file, crop_left, crop_right, crop_top, crop_bottom):\n",
    "    img = Image.open(file)\n",
    "    x, y = img.size\n",
    "    box = (crop_left, crop_top, x - crop_left - crop_right, y - crop_top - crop_bottom)\n",
    "    crop = img.crop(box)    \n",
    "    crop.save(file)\n",
    "\n",
    "def create_empty_folder(path):\n",
    "    '''Create a folder. Delete content if exists'''\n",
    "    Path(path).mkdir(parents=True, exist_ok=True)\n",
    "    \n",
    "    # Remove existing files\n",
    "    existing_files = find_files_ignore_case(os.path.join(path, '*'))\n",
    "    for ef in existing_files:\n",
    "        os.remove(ef)\n",
    "\n",
    "def convert_pdf_to_images(file):\n",
    "    '''Convert a PDF file into images and save to folder of same name\n",
    "        Return folder which contains the images\n",
    "    '''\n",
    "    # Create directory for each file\n",
    "    folder = os.path.splitext(file)[0]    \n",
    "    create_empty_folder(folder)\n",
    "    \n",
    "    # Convert PDF to images into the directory\n",
    "    images = convert_from_path(file)\n",
    "    for i, image in enumerate(images):\n",
    "        file_name = 'Z{:05}.jpg'.format(i+1)\n",
    "        image.save(os.path.join(folder, file_name), 'JPEG')\n",
    "\n",
    "    return folder\n",
    "\n",
    "def get_file_name_prefix(filename):\n",
    "    with open('file_name_prefixes.txt') as f:\n",
    "        line = f.readline().strip()\n",
    "#         print(repr(filename.lower()), repr(line.lower()))\n",
    "        if filename.lower().startswith(line.lower()):\n",
    "            return line.strip()\n",
    "    return None"
   ]
  },
  {
   "cell_type": "markdown",
   "metadata": {},
   "source": [
    "* Convert PDF files to images. \n",
    "* Images from each PDF file are saved in a folder of same name."
   ]
  },
  {
   "cell_type": "markdown",
   "metadata": {},
   "source": [
    "Get current folder"
   ]
  },
  {
   "cell_type": "code",
   "execution_count": 2,
   "metadata": {},
   "outputs": [],
   "source": [
    "cur_folder = os.path.abspath('')"
   ]
  },
  {
   "cell_type": "markdown",
   "metadata": {},
   "source": [
    "### Convert PDFs to Images"
   ]
  },
  {
   "cell_type": "code",
   "execution_count": 3,
   "metadata": {},
   "outputs": [
    {
     "name": "stdout",
     "output_type": "stream",
     "text": [
      "d:\\GoogleDrive\\Learn-Python\\Typora to Word\\O Level E Math Mid-Year Exam Paper 1_QP.pdf\n",
      "d:\\GoogleDrive\\Learn-Python\\Typora to Word\\O Level E Math Mid-Year Exam Paper 2_QP.pdf\n"
     ]
    }
   ],
   "source": [
    "# Convert PDFs to Images\n",
    "files = find_files_ignore_case('*.pdf')\n",
    "for pdf_file in files:\n",
    "    pdf_file = os.path.join(cur_folder, pdf_file)\n",
    "    print(pdf_file)\n",
    "    folder = convert_pdf_to_images(pdf_file)"
   ]
  },
  {
   "cell_type": "markdown",
   "metadata": {},
   "source": [
    "### Crop Images"
   ]
  },
  {
   "cell_type": "code",
   "execution_count": 6,
   "metadata": {},
   "outputs": [
    {
     "name": "stdout",
     "output_type": "stream",
     "text": [
      "O Level E Math Mid-Year Exam Paper 1_QP\n",
      "O Level E Math Mid-Year Exam Paper 1_QP\\Z00001.jpg\n",
      "O Level E Math Mid-Year Exam Paper 1_QP\\Z00002.jpg\n",
      "O Level E Math Mid-Year Exam Paper 1_QP\\Z00003.jpg\n",
      "O Level E Math Mid-Year Exam Paper 1_QP\\Z00004.jpg\n",
      "O Level E Math Mid-Year Exam Paper 1_QP\\Z00005.jpg\n",
      "O Level E Math Mid-Year Exam Paper 1_QP\\Z00006.jpg\n",
      "O Level E Math Mid-Year Exam Paper 1_QP\\Z00007.jpg\n",
      "O Level E Math Mid-Year Exam Paper 1_QP\\Z00008.jpg\n",
      "O Level E Math Mid-Year Exam Paper 1_QP\\Z00009.jpg\n",
      "O Level E Math Mid-Year Exam Paper 1_QP\\Z00010.jpg\n",
      "O Level E Math Mid-Year Exam Paper 1_QP\\Z00011.jpg\n",
      "O Level E Math Mid-Year Exam Paper 1_QP\\Z00012.jpg\n",
      "O Level E Math Mid-Year Exam Paper 1_QP\\Z00013.jpg\n",
      "O Level E Math Mid-Year Exam Paper 1_QP\\Z00014.jpg\n",
      "O Level E Math Mid-Year Exam Paper 1_QP\\Z00015.jpg\n",
      "O Level E Math Mid-Year Exam Paper 1_QP\\Z00016.jpg\n",
      "O Level E Math Mid-Year Exam Paper 2_QP\n",
      "O Level E Math Mid-Year Exam Paper 2_QP\\Z00001.jpg\n",
      "O Level E Math Mid-Year Exam Paper 2_QP\\Z00002.jpg\n",
      "O Level E Math Mid-Year Exam Paper 2_QP\\Z00003.jpg\n",
      "O Level E Math Mid-Year Exam Paper 2_QP\\Z00004.jpg\n",
      "O Level E Math Mid-Year Exam Paper 2_QP\\Z00005.jpg\n",
      "O Level E Math Mid-Year Exam Paper 2_QP\\Z00006.jpg\n",
      "O Level E Math Mid-Year Exam Paper 2_QP\\Z00007.jpg\n",
      "O Level E Math Mid-Year Exam Paper 2_QP\\Z00008.jpg\n",
      "O Level E Math Mid-Year Exam Paper 2_QP\\Z00009.jpg\n",
      "O Level E Math Mid-Year Exam Paper 2_QP\\Z00010.jpg\n",
      "O Level E Math Mid-Year Exam Paper 2_QP\\Z00011.jpg\n",
      "O Level E Math Mid-Year Exam Paper 2_QP\\Z00012.jpg\n"
     ]
    }
   ],
   "source": [
    "# Crop images\n",
    "files = find_files_ignore_case('*.pdf')\n",
    "for file in files:\n",
    "    folder = os.path.splitext(file)[0]\n",
    "    print(folder)\n",
    "    images = find_files_ignore_case('*', folder)\n",
    "    for image_file in images:\n",
    "        image_file = os.path.join(folder, image_file)\n",
    "        print(image_file)\n",
    "        crop_image_center(image_file, crop_left=190, crop_right=-40, crop_top=100, crop_bottom=50)\n"
   ]
  },
  {
   "cell_type": "markdown",
   "metadata": {},
   "source": [
    "### Copy Image *.jpg From Reference to Folder"
   ]
  },
  {
   "cell_type": "code",
   "execution_count": 22,
   "metadata": {},
   "outputs": [
    {
     "name": "stdout",
     "output_type": "stream",
     "text": [
      "O Level E Math Mid-Year Exam Paper 1_QP.pdf\n",
      "'o level e math mid-year exam paper 1_qp.pdf' 'o level e math'\n",
      "O Level E Math\n",
      "O Level E Math Mid-Year Exam Paper 2_QP.pdf\n",
      "'o level e math mid-year exam paper 2_qp.pdf' 'o level e math'\n",
      "O Level E Math\n"
     ]
    }
   ],
   "source": [
    "# Copy Image *.jpg From Reference to Folder\n",
    "files = find_files_ignore_case('*.pdf')\n",
    "for file in files:\n",
    "    print(file)\n",
    "    folder = os.path.splitext(file)[0]\n",
    "    file_prefix = get_file_name_prefix(file)\n",
    "    print(file_prefix)\n",
    "\n",
    "    # Copy Image *.jpg From Reference to Folder\n",
    "    source_files = find_files_ignore_case('{}*.jpg'.format(file_prefix), 'Reference')\n",
    "\n",
    "    for f in source_files:\n",
    "        f = os.path.join('Reference', f)\n",
    "        shutil.copy(f, folder)"
   ]
  },
  {
   "cell_type": "markdown",
   "metadata": {},
   "source": [
    "### Insert Images to Word"
   ]
  },
  {
   "cell_type": "code",
   "execution_count": 30,
   "metadata": {},
   "outputs": [
    {
     "name": "stdout",
     "output_type": "stream",
     "text": [
      "'o level e math mid-year exam paper 1_qp.pdf' 'o level e math'\n",
      "'o level e math mid-year exam paper 2_qp.pdf' 'o level e math'\n"
     ]
    }
   ],
   "source": [
    "# Insert Images to Word\n",
    "files = find_files_ignore_case('*.pdf')\n",
    "for file in files:\n",
    "    folder = os.path.splitext(file)[0] \n",
    "    word_file = folder+\".docx\"\n",
    "\n",
    "    document = Document()\n",
    "\n",
    "    # Copy from template docx\n",
    "    file_prefix = get_file_name_prefix(file)\n",
    "    files = find_files_ignore_case('{}*.docx'.format(file_prefix), 'Reference')\n",
    "    if files:\n",
    "        document = Document(os.path.join('Reference', files[0]))\n",
    "        document.add_section()\n",
    "    else:\n",
    "        document = Document()\n",
    "    document.save(word_file)\n",
    "\n",
    "    section = document.sections[0]\n",
    "#         width = section.page_width - section.left_margin - section.right_margin\n",
    "    height = section.page_height - section.top_margin - section.bottom_margin\n",
    "\n",
    "    images = find_files_ignore_case('*', folder)\n",
    "    for image_file in images:\n",
    "        image_file = os.path.join(folder, image_file)\n",
    "#         document.add_picture(image_file, width=width)\n",
    "        document.add_picture(image_file, height=height)\n",
    "\n",
    "    document.save(word_file)"
   ]
  }
 ],
 "metadata": {
  "kernelspec": {
   "display_name": "Python 3",
   "language": "python",
   "name": "python3"
  },
  "language_info": {
   "codemirror_mode": {
    "name": "ipython",
    "version": 3
   },
   "file_extension": ".py",
   "mimetype": "text/x-python",
   "name": "python",
   "nbconvert_exporter": "python",
   "pygments_lexer": "ipython3",
   "version": "3.7.3"
  }
 },
 "nbformat": 4,
 "nbformat_minor": 2
}
